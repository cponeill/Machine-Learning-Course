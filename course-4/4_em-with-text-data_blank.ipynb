{
 "cells": [
  {
   "cell_type": "markdown",
   "metadata": {},
   "source": [
    "## Fitting a diagonal covariance Gaussian mixture model to text data\n",
    "\n",
    "In a previous assignment, we explored k-means clustering for a high-dimensional Wikipedia dataset. We can also model this data with a mixture of Gaussians, though with increasing dimension we run into two important issues associated with using a full covariance matrix for each component.\n",
    " * Computational cost becomes prohibitive in high dimensions: score calculations have complexity cubic in the number of dimensions M if the Gaussian has a full covariance matrix.\n",
    " * A model with many parameters require more data: bserve that a full covariance matrix for an M-dimensional Gaussian will have M(M+1)/2 parameters to fit. With the number of parameters growing roughly as the square of the dimension, it may quickly become impossible to find a sufficient amount of data to make good inferences.\n",
    "\n",
    "Both of these issues are avoided if we require the covariance matrix of each component to be diagonal, as then it has only M parameters to fit and the score computation decomposes into M univariate score calculations. Recall from the lecture that the M-step for the full covariance is:\n",
    "\n",
    "\\begin{align*}\n",
    "\\hat{\\Sigma}_k &= \\frac{1}{N_k^{soft}} \\sum_{i=1}^N r_{ik} (x_i-\\hat{\\mu}_k)(x_i - \\hat{\\mu}_k)^T\n",
    "\\end{align*}\n",
    "\n",
    "Note that this is a square matrix with M rows and M columns, and the above equation implies that the (v, w) element is computed by\n",
    "\n",
    "\\begin{align*}\n",
    "\\hat{\\Sigma}_{k, v, w} &= \\frac{1}{N_k^{soft}} \\sum_{i=1}^N r_{ik} (x_{iv}-\\hat{\\mu}_{kv})(x_{iw} - \\hat{\\mu}_{kw})\n",
    "\\end{align*}\n",
    "\n",
    "When we assume that this is a diagonal matrix, then non-diagonal elements are assumed to be zero and we only need to compute each of the M elements along the diagonal independently using the following equation. \n",
    "\n",
    "\\begin{align*}\n",
    "\\hat{\\sigma}^2_{k, v} &= \\hat{\\Sigma}_{k, v, v}  \\\\\n",
    "&= \\frac{1}{N_k^{soft}} \\sum_{i=1}^N r_{ik} (x_{iv}-\\hat{\\mu}_{kv})^2\n",
    "\\end{align*}\n",
    "\n",
    "In this section, we will use an EM implementation to fit a Gaussian mixture model with **diagonal** covariances to a subset of the Wikipedia dataset. The implementation uses the above equation to compute each variance term. \n",
    "\n",
    "We'll begin by importing the dataset and coming up with a useful representation for each article. After running our algorithm on the data, we will explore the output to see whether we can give a meaningful interpretation to the fitted parameters in our model."
   ]
  },
  {
   "cell_type": "markdown",
   "metadata": {},
   "source": [
    "**Note to Amazon EC2 users**: To conserve memory, make sure stop all the other notebooks before running this notebook."
   ]
  },
  {
   "cell_type": "markdown",
   "metadata": {},
   "source": [
    "## Import necessary packages"
   ]
  },
  {
   "cell_type": "code",
   "execution_count": 1,
   "metadata": {
    "collapsed": false
   },
   "outputs": [
    {
     "name": "stderr",
     "output_type": "stream",
     "text": [
      "A newer version of GraphLab Create (v2.1) is available! Your current version is v1.10.1.\n",
      "\n",
      "You can use pip to upgrade the graphlab-create package. For more information see https://dato.com/products/create/upgrade.\n"
     ]
    }
   ],
   "source": [
    "import graphlab"
   ]
  },
  {
   "cell_type": "markdown",
   "metadata": {},
   "source": [
    "We also have a Python file containing implementations for several functions that will be used during the course of this assignment."
   ]
  },
  {
   "cell_type": "code",
   "execution_count": 2,
   "metadata": {
    "collapsed": false
   },
   "outputs": [],
   "source": [
    "from em_utilities import *"
   ]
  },
  {
   "cell_type": "markdown",
   "metadata": {},
   "source": [
    "## Load Wikipedia data and extract TF-IDF features"
   ]
  },
  {
   "cell_type": "markdown",
   "metadata": {},
   "source": [
    "Load Wikipedia data and transform each of the first 5000 document into a TF-IDF representation."
   ]
  },
  {
   "cell_type": "code",
   "execution_count": 3,
   "metadata": {
    "collapsed": false
   },
   "outputs": [
    {
     "name": "stderr",
     "output_type": "stream",
     "text": [
      "[INFO] graphlab.cython.cy_server: GraphLab Create v1.10.1 started. Logging: /tmp/graphlab_server_1469468136.log\n",
      "INFO:graphlab.cython.cy_server:GraphLab Create v1.10.1 started. Logging: /tmp/graphlab_server_1469468136.log\n"
     ]
    },
    {
     "name": "stdout",
     "output_type": "stream",
     "text": [
      "This non-commercial license of GraphLab Create for academic use is assigned to caseyoneill78@hotmail.com and will expire on September 26, 2016.\n"
     ]
    }
   ],
   "source": [
    "wiki = graphlab.SFrame('people_wiki.gl/').head(5000)\n",
    "wiki['tf_idf'] = graphlab.text_analytics.tf_idf(wiki['text'])"
   ]
  },
  {
   "cell_type": "markdown",
   "metadata": {},
   "source": [
    "Using a utility we provide, we will create a sparse matrix representation of the documents. This is the same utility function you used during the previous assignment on k-means with text data."
   ]
  },
  {
   "cell_type": "code",
   "execution_count": 4,
   "metadata": {
    "collapsed": false
   },
   "outputs": [],
   "source": [
    "tf_idf, map_index_to_word = sframe_to_scipy(wiki, 'tf_idf')"
   ]
  },
  {
   "cell_type": "markdown",
   "metadata": {},
   "source": [
    "As in the previous assignment, we will normalize each document's TF-IDF vector to be a unit vector. "
   ]
  },
  {
   "cell_type": "code",
   "execution_count": 5,
   "metadata": {
    "collapsed": false
   },
   "outputs": [],
   "source": [
    "tf_idf = normalize(tf_idf)"
   ]
  },
  {
   "cell_type": "markdown",
   "metadata": {},
   "source": [
    "We can check that the length (Euclidean norm) of each row is now 1.0, as expected."
   ]
  },
  {
   "cell_type": "code",
   "execution_count": 6,
   "metadata": {
    "collapsed": false,
    "scrolled": true
   },
   "outputs": [
    {
     "name": "stdout",
     "output_type": "stream",
     "text": [
      "1.0\n",
      "1.0\n",
      "1.0\n",
      "1.0\n",
      "1.0\n"
     ]
    }
   ],
   "source": [
    "for i in range(5):\n",
    "    doc = tf_idf[i]\n",
    "    print(np.linalg.norm(doc.todense()))"
   ]
  },
  {
   "cell_type": "markdown",
   "metadata": {},
   "source": [
    "## EM in high dimensions\n",
    "\n",
    "EM for high-dimensional data requires some special treatment:\n",
    " * E step and M step must be vectorized as much as possible, as explicit loops are dreadfully slow in Python.\n",
    " * All operations must be cast in terms of sparse matrix operations, to take advantage of computational savings enabled by sparsity of data.\n",
    " * Initially, some words may be entirely absent from a cluster, causing the M step to produce zero mean and variance for those words.  This means any data point with one of those words will have 0 probability of being assigned to that cluster since the cluster allows for no variability (0 variance) around that count being 0 (0 mean). Since there is a small chance for those words to later appear in the cluster, we instead assign a small positive variance (~1e-10). Doing so also prevents numerical overflow.\n",
    " \n",
    "We provide the complete implementation for you in the file `em_utilities.py`. For those who are interested, you can read through the code to see how the sparse matrix implementation differs from the previous assignment. \n",
    "\n",
    "You are expected to answer some quiz questions using the results of clustering."
   ]
  },
  {
   "cell_type": "markdown",
   "metadata": {},
   "source": [
    "**Initializing mean parameters using k-means**\n",
    "\n",
    "Recall from the lectures that EM for Gaussian mixtures is very sensitive to the choice of initial means. With a bad initial set of means, EM may produce clusters that span a large area and are mostly overlapping. To eliminate such bad outcomes, we first produce a suitable set of initial means by using the cluster centers from running k-means.  That is, we first run k-means and then take the final set of means from the converged solution as the initial means in our EM algorithm."
   ]
  },
  {
   "cell_type": "code",
   "execution_count": 7,
   "metadata": {
    "collapsed": false
   },
   "outputs": [],
   "source": [
    "from sklearn.cluster import KMeans\n",
    "\n",
    "np.random.seed(5)\n",
    "num_clusters = 25\n",
    "\n",
    "# Use scikit-learn's k-means to simplify workflow\n",
    "kmeans_model = KMeans(n_clusters=num_clusters, n_init=5, max_iter=400, random_state=1, n_jobs=-1)\n",
    "kmeans_model.fit(tf_idf)\n",
    "centroids, cluster_assignment = kmeans_model.cluster_centers_, kmeans_model.labels_\n",
    "\n",
    "means = [centroid for centroid in centroids]"
   ]
  },
  {
   "cell_type": "markdown",
   "metadata": {},
   "source": [
    "**Initializing cluster weights*\n",
    "We will initialize each cluster weight to be the proportion of documents assigned to that cluster by k-means above."
   ]
  },
  {
   "cell_type": "code",
   "execution_count": 9,
   "metadata": {
    "collapsed": false
   },
   "outputs": [
    {
     "name": "stdout",
     "output_type": "stream",
     "text": [
      "[0.0512, 0.0256, 0.0318, 0.0132, 0.01, 0.0212, 0.0782, 0.0282, 0.1676, 0.017, 0.0196, 0.0526, 0.0266, 0.047, 0.048, 0.083, 0.0168, 0.0256, 0.0166, 0.0508, 0.0182, 0.0338, 0.014, 0.0688, 0.0346]\n"
     ]
    }
   ],
   "source": [
    "num_docs = tf_idf.shape[0]\n",
    "weights = []\n",
    "for i in xrange(num_clusters):\n",
    "    # Compute the number of data points assigned to cluster i:\n",
    "    num_assigned = np.sum(cluster_assignment==i) # YOUR CODE HERE\n",
    "    w = float(num_assigned) / num_docs\n",
    "    weights.append(w)\n",
    "    \n",
    "print weights"
   ]
  },
  {
   "cell_type": "markdown",
   "metadata": {},
   "source": [
    "**Initializing covariances**\n",
    "\n",
    "To initialize our covariance parameters, we compute $\\hat{\\sigma}_{k, j}^2 = \\sum_{i=1}^{N}(x_{i,j} - \\hat{\\mu}_{k, j})^2$ for each feature $j$.  For features with really tiny variances, we assign 1e-8 instead to prevent numerical instability. We do this computation in a vectorized fashion in the following code block."
   ]
  },
  {
   "cell_type": "code",
   "execution_count": 10,
   "metadata": {
    "collapsed": false
   },
   "outputs": [],
   "source": [
    "covs = []\n",
    "for i in xrange(num_clusters):\n",
    "    member_rows = tf_idf[cluster_assignment==i]\n",
    "    cov = (member_rows.power(2) - 2*member_rows.dot(diag(means[i]))).sum(axis=0).A1 / member_rows.shape[0] \\\n",
    "          + means[i]**2\n",
    "    cov[cov < 1e-8] = 1e-8\n",
    "    covs.append(cov)"
   ]
  },
  {
   "cell_type": "markdown",
   "metadata": {},
   "source": [
    "**Running EM**\n",
    "\n",
    "Now that we have initialized all of our parameters, run EM."
   ]
  },
  {
   "cell_type": "code",
   "execution_count": 11,
   "metadata": {
    "collapsed": false,
    "scrolled": true
   },
   "outputs": [],
   "source": [
    "out = EM_for_high_dimension(tf_idf, means, covs, weights, cov_smoothing=1e-10)"
   ]
  },
  {
   "cell_type": "code",
   "execution_count": 12,
   "metadata": {
    "collapsed": false
   },
   "outputs": [
    {
     "data": {
      "text/plain": [
       "[3855847476.7012835, 4844053202.46348, 4844053202.46348]"
      ]
     },
     "execution_count": 12,
     "metadata": {},
     "output_type": "execute_result"
    }
   ],
   "source": [
    "out['loglik']"
   ]
  },
  {
   "cell_type": "markdown",
   "metadata": {},
   "source": [
    "## Interpret clustering results"
   ]
  },
  {
   "cell_type": "markdown",
   "metadata": {},
   "source": [
    "In contrast to k-means, EM is able to explicitly model clusters of varying sizes and proportions. The relative magnitude of variances in the word dimensions tell us much about the nature of the clusters.\n",
    "\n",
    "Write yourself a cluster visualizer as follows.  Examining each cluster's mean vector, list the 5 words with the largest mean values (5 most common words in the cluster). For each word, also include the associated variance parameter (diagonal element of the covariance matrix). \n",
    "\n",
    "A sample output may be:\n",
    "```\n",
    "==========================================================\n",
    "Cluster 0: Largest mean parameters in cluster \n",
    "\n",
    "Word        Mean        Variance    \n",
    "football    1.08e-01    8.64e-03\n",
    "season      5.80e-02    2.93e-03\n",
    "club        4.48e-02    1.99e-03\n",
    "league      3.94e-02    1.08e-03\n",
    "played      3.83e-02    8.45e-04\n",
    "...\n",
    "```"
   ]
  },
  {
   "cell_type": "code",
   "execution_count": 13,
   "metadata": {
    "collapsed": true
   },
   "outputs": [],
   "source": [
    "# Fill in the blanks\n",
    "def visualize_EM_clusters(tf_idf, means, covs, map_index_to_word):\n",
    "    print('')\n",
    "    print('==========================================================')\n",
    "\n",
    "    num_clusters = len(means)\n",
    "    for c in xrange(num_clusters):\n",
    "        print('Cluster {0:d}: Largest mean parameters in cluster '.format(c))\n",
    "        print('\\n{0: <12}{1: <12}{2: <12}'.format('Word', 'Mean', 'Variance'))\n",
    "        \n",
    "        # The k'th element of sorted_word_ids should be the index of the word \n",
    "        # that has the k'th-largest value in the cluster mean. Hint: Use np.argsort().\n",
    "        sorted_word_ids = np.argsort(-means[c])  # YOUR CODE HERE\n",
    "\n",
    "        for i in sorted_word_ids[:5]:\n",
    "            print '{0: <12}{1:<10.2e}{2:10.2e}'.format(map_index_to_word['category'][i], \n",
    "                                                       means[c][i],\n",
    "                                                       covs[c][i])\n",
    "        print '\\n=========================================================='"
   ]
  },
  {
   "cell_type": "code",
   "execution_count": 14,
   "metadata": {
    "collapsed": false
   },
   "outputs": [
    {
     "name": "stdout",
     "output_type": "stream",
     "text": [
      "\n",
      "==========================================================\n",
      "Cluster 0: Largest mean parameters in cluster \n",
      "\n",
      "Word        Mean        Variance    \n",
      "minister    7.57e-02    7.42e-03\n",
      "election    5.89e-02    3.21e-03\n",
      "party       5.89e-02    2.61e-03\n",
      "liberal     2.93e-02    4.55e-03\n",
      "elected     2.91e-02    8.95e-04\n",
      "\n",
      "==========================================================\n",
      "Cluster 1: Largest mean parameters in cluster \n",
      "\n",
      "Word        Mean        Variance    \n",
      "film        1.76e-01    6.07e-03\n",
      "films       5.50e-02    2.97e-03\n",
      "festival    4.66e-02    3.60e-03\n",
      "feature     3.69e-02    1.81e-03\n",
      "directed    3.39e-02    2.22e-03\n",
      "\n",
      "==========================================================\n",
      "Cluster 2: Largest mean parameters in cluster \n",
      "\n",
      "Word        Mean        Variance    \n",
      "art         1.26e-01    6.83e-03\n",
      "museum      5.62e-02    7.27e-03\n",
      "gallery     3.65e-02    3.40e-03\n",
      "artist      3.61e-02    1.44e-03\n",
      "design      3.20e-02    4.59e-03\n",
      "\n",
      "==========================================================\n",
      "Cluster 3: Largest mean parameters in cluster \n",
      "\n",
      "Word        Mean        Variance    \n",
      "basketball  1.86e-01    7.78e-03\n",
      "nba         1.01e-01    1.22e-02\n",
      "points      6.25e-02    5.92e-03\n",
      "coach       5.57e-02    5.91e-03\n",
      "team        4.68e-02    1.30e-03\n",
      "\n",
      "==========================================================\n",
      "Cluster 4: Largest mean parameters in cluster \n",
      "\n",
      "Word        Mean        Variance    \n",
      "hockey      2.45e-01    1.64e-02\n",
      "nhl         1.56e-01    1.64e-02\n",
      "ice         6.40e-02    2.97e-03\n",
      "season      5.05e-02    2.52e-03\n",
      "league      4.31e-02    1.53e-03\n",
      "\n",
      "==========================================================\n",
      "Cluster 5: Largest mean parameters in cluster \n",
      "\n",
      "Word        Mean        Variance    \n",
      "republican  7.93e-02    5.20e-03\n",
      "senate      5.41e-02    6.28e-03\n",
      "house       4.64e-02    2.41e-03\n",
      "district    4.60e-02    2.37e-03\n",
      "democratic  4.46e-02    3.02e-03\n",
      "\n",
      "==========================================================\n",
      "Cluster 6: Largest mean parameters in cluster \n",
      "\n",
      "Word        Mean        Variance    \n",
      "she         1.60e-01    4.65e-03\n",
      "her         1.00e-01    3.14e-03\n",
      "miss        2.22e-02    7.76e-03\n",
      "women       1.43e-02    1.36e-03\n",
      "womens      1.21e-02    1.46e-03\n",
      "\n",
      "==========================================================\n",
      "Cluster 7: Largest mean parameters in cluster \n",
      "\n",
      "Word        Mean        Variance    \n",
      "championships7.78e-02    5.17e-03\n",
      "m           4.70e-02    7.58e-03\n",
      "olympics    4.69e-02    2.59e-03\n",
      "medal       4.28e-02    2.44e-03\n",
      "she         4.18e-02    5.99e-03\n",
      "\n",
      "==========================================================\n",
      "Cluster 8: Largest mean parameters in cluster \n",
      "\n",
      "Word        Mean        Variance    \n",
      "book        1.45e-02    9.38e-04\n",
      "published   1.23e-02    6.16e-04\n",
      "that        1.10e-02    1.73e-04\n",
      "novel       1.07e-02    1.43e-03\n",
      "he          1.04e-02    6.05e-05\n",
      "\n",
      "==========================================================\n",
      "Cluster 9: Largest mean parameters in cluster \n",
      "\n",
      "Word        Mean        Variance    \n",
      "she         1.37e-01    4.25e-03\n",
      "her         8.99e-02    2.74e-03\n",
      "actress     7.65e-02    4.29e-03\n",
      "film        5.98e-02    3.44e-03\n",
      "drama       5.03e-02    6.40e-03\n",
      "\n",
      "==========================================================\n",
      "Cluster 10: Largest mean parameters in cluster \n",
      "\n",
      "Word        Mean        Variance    \n",
      "soccer      1.15e-01    2.86e-02\n",
      "chess       4.52e-02    1.66e-02\n",
      "team        4.13e-02    2.15e-03\n",
      "coach       3.09e-02    4.45e-03\n",
      "league      3.07e-02    2.01e-03\n",
      "\n",
      "==========================================================\n",
      "Cluster 11: Largest mean parameters in cluster \n",
      "\n",
      "Word        Mean        Variance    \n",
      "president   2.52e-02    1.29e-03\n",
      "chairman    2.44e-02    1.97e-03\n",
      "committee   2.34e-02    2.38e-03\n",
      "served      2.24e-02    6.99e-04\n",
      "executive   2.15e-02    1.23e-03\n",
      "\n",
      "==========================================================\n",
      "Cluster 12: Largest mean parameters in cluster \n",
      "\n",
      "Word        Mean        Variance    \n",
      "music       7.26e-02    3.48e-03\n",
      "jazz        6.07e-02    1.14e-02\n",
      "hong        3.78e-02    9.92e-03\n",
      "kong        3.50e-02    8.64e-03\n",
      "chinese     3.12e-02    5.33e-03\n",
      "\n",
      "==========================================================\n",
      "Cluster 13: Largest mean parameters in cluster \n",
      "\n",
      "Word        Mean        Variance    \n",
      "university  3.47e-02    8.89e-04\n",
      "history     3.38e-02    2.81e-03\n",
      "philosophy  2.86e-02    5.35e-03\n",
      "professor   2.74e-02    1.08e-03\n",
      "studies     2.41e-02    1.95e-03\n",
      "\n",
      "==========================================================\n",
      "Cluster 14: Largest mean parameters in cluster \n",
      "\n",
      "Word        Mean        Variance    \n",
      "theatre     4.93e-02    6.17e-03\n",
      "actor       3.56e-02    2.91e-03\n",
      "television  3.21e-02    1.67e-03\n",
      "film        2.93e-02    1.16e-03\n",
      "comedy      2.86e-02    3.91e-03\n",
      "\n",
      "==========================================================\n",
      "Cluster 15: Largest mean parameters in cluster \n",
      "\n",
      "Word        Mean        Variance    \n",
      "album       6.76e-02    4.78e-03\n",
      "band        5.35e-02    4.21e-03\n",
      "music       4.18e-02    1.96e-03\n",
      "released    3.13e-02    1.11e-03\n",
      "song        2.50e-02    1.81e-03\n",
      "\n",
      "==========================================================\n",
      "Cluster 16: Largest mean parameters in cluster \n",
      "\n",
      "Word        Mean        Variance    \n",
      "tour        1.14e-01    1.92e-02\n",
      "pga         1.08e-01    2.65e-02\n",
      "racing      8.45e-02    8.26e-03\n",
      "championship6.27e-02    4.54e-03\n",
      "formula     6.06e-02    1.31e-02\n",
      "\n",
      "==========================================================\n",
      "Cluster 17: Largest mean parameters in cluster \n",
      "\n",
      "Word        Mean        Variance    \n",
      "news        5.76e-02    8.06e-03\n",
      "radio       5.18e-02    4.62e-03\n",
      "show        3.75e-02    2.56e-03\n",
      "bbc         3.63e-02    7.41e-03\n",
      "chef        3.27e-02    1.18e-02\n",
      "\n",
      "==========================================================\n",
      "Cluster 18: Largest mean parameters in cluster \n",
      "\n",
      "Word        Mean        Variance    \n",
      "football    1.11e-01    5.60e-03\n",
      "yards       7.37e-02    1.72e-02\n",
      "nfl         6.98e-02    9.15e-03\n",
      "coach       6.74e-02    7.85e-03\n",
      "quarterback 4.02e-02    7.16e-03\n",
      "\n",
      "==========================================================\n",
      "Cluster 19: Largest mean parameters in cluster \n",
      "\n",
      "Word        Mean        Variance    \n",
      "league      5.21e-02    3.13e-03\n",
      "club        5.04e-02    2.64e-03\n",
      "season      4.77e-02    2.30e-03\n",
      "rugby       4.35e-02    8.18e-03\n",
      "cup         4.22e-02    2.46e-03\n",
      "\n",
      "==========================================================\n",
      "Cluster 20: Largest mean parameters in cluster \n",
      "\n",
      "Word        Mean        Variance    \n",
      "orchestra   1.31e-01    1.06e-02\n",
      "music       1.23e-01    6.15e-03\n",
      "symphony    8.70e-02    1.08e-02\n",
      "conductor   8.16e-02    1.01e-02\n",
      "philharmonic4.96e-02    3.27e-03\n",
      "\n",
      "==========================================================\n",
      "Cluster 21: Largest mean parameters in cluster \n",
      "\n",
      "Word        Mean        Variance    \n",
      "law         9.52e-02    8.35e-03\n",
      "court       6.84e-02    5.24e-03\n",
      "judge       4.59e-02    4.44e-03\n",
      "attorney    3.74e-02    4.30e-03\n",
      "district    3.72e-02    4.20e-03\n",
      "\n",
      "==========================================================\n",
      "Cluster 22: Largest mean parameters in cluster \n",
      "\n",
      "Word        Mean        Variance    \n",
      "football    1.21e-01    6.14e-03\n",
      "afl         9.58e-02    1.31e-02\n",
      "australian  7.91e-02    1.58e-03\n",
      "club        5.93e-02    1.76e-03\n",
      "season      5.58e-02    1.83e-03\n",
      "\n",
      "==========================================================\n",
      "Cluster 23: Largest mean parameters in cluster \n",
      "\n",
      "Word        Mean        Variance    \n",
      "research    5.70e-02    2.68e-03\n",
      "science     3.50e-02    2.95e-03\n",
      "university  3.34e-02    7.14e-04\n",
      "professor   3.20e-02    1.26e-03\n",
      "physics     2.61e-02    5.43e-03\n",
      "\n",
      "==========================================================\n",
      "Cluster 24: Largest mean parameters in cluster \n",
      "\n",
      "Word        Mean        Variance    \n",
      "baseball    1.16e-01    5.57e-03\n",
      "league      1.03e-01    3.63e-03\n",
      "major       5.09e-02    1.19e-03\n",
      "games       4.66e-02    1.93e-03\n",
      "sox         4.55e-02    6.28e-03\n",
      "\n",
      "==========================================================\n"
     ]
    }
   ],
   "source": [
    "'''By EM'''\n",
    "visualize_EM_clusters(tf_idf, out['means'], out['covs'], map_index_to_word)"
   ]
  },
  {
   "cell_type": "markdown",
   "metadata": {},
   "source": [
    "**Quiz Question**. Select all the topics that have a cluster in the model created above. [multiple choice]"
   ]
  },
  {
   "cell_type": "markdown",
   "metadata": {},
   "source": [
    "## Comparing to random initialization"
   ]
  },
  {
   "cell_type": "markdown",
   "metadata": {
    "collapsed": false
   },
   "source": [
    "Create variables for randomly initializing the EM algorithm. Complete the following code block."
   ]
  },
  {
   "cell_type": "code",
   "execution_count": 15,
   "metadata": {
    "collapsed": true
   },
   "outputs": [],
   "source": [
    "np.random.seed(5)\n",
    "num_clusters = len(means)\n",
    "num_docs, num_words = tf_idf.shape\n",
    "\n",
    "random_means = []\n",
    "random_covs = []\n",
    "random_weights = []\n",
    "\n",
    "for k in range(num_clusters):\n",
    "    \n",
    "    # Create a numpy array of length num_words with random normally distributed values.\n",
    "    # Use the standard univariate normal distribution (mean 0, variance 1).\n",
    "    # YOUR CODE HERE\n",
    "    mean = np.random.normal(0,1,num_words)\n",
    "    \n",
    "    # Create a numpy array of length num_words with random values uniformly distributed between 1 and 5.\n",
    "    # YOUR CODE HERE\n",
    "    cov = np.random.uniform(1,5,num_words)\n",
    "\n",
    "    # Initially give each cluster equal weight.\n",
    "    # YOUR CODE HERE\n",
    "    weight = 1\n",
    "    \n",
    "    random_means.append(mean)\n",
    "    random_covs.append(cov)\n",
    "    random_weights.append(weight)"
   ]
  },
  {
   "cell_type": "markdown",
   "metadata": {},
   "source": [
    "**Quiz question**: Try fitting EM with the random initial parameters you created above. (Use `cov_smoothing=1e-5`.) What is the final loglikelihood that the algorithm converges to? "
   ]
  },
  {
   "cell_type": "code",
   "execution_count": 16,
   "metadata": {
    "collapsed": false
   },
   "outputs": [
    {
     "data": {
      "text/plain": [
       "{'covs': [array([  1.00000000e-05,   1.00000000e-05,   1.00000000e-05, ...,\n",
       "           1.00062865e-05,   1.00027555e-05,   1.00009243e-05]),\n",
       "  array([  1.00000000e-05,   1.00000000e-05,   1.00000000e-05, ...,\n",
       "           1.00073803e-05,   1.00034352e-05,   1.00011170e-05]),\n",
       "  array([  1.00000000e-05,   1.00000000e-05,   1.00000000e-05, ...,\n",
       "           1.00083432e-05,   1.00023343e-05,   1.00009767e-05]),\n",
       "  array([  1.00000000e-05,   1.00000000e-05,   1.00000000e-05, ...,\n",
       "           1.00077976e-05,   1.00030080e-05,   1.00008818e-05]),\n",
       "  array([  1.00000000e-05,   1.00000000e-05,   1.00000000e-05, ...,\n",
       "           1.00093712e-05,   1.00035705e-05,   1.00009599e-05]),\n",
       "  array([  1.00000000e-05,   1.00000000e-05,   1.00000000e-05, ...,\n",
       "           1.00088397e-05,   1.00026165e-05,   1.00010384e-05]),\n",
       "  array([  1.00000000e-05,   1.00000000e-05,   1.00000000e-05, ...,\n",
       "           1.00079954e-05,   1.00024835e-05,   1.00009018e-05]),\n",
       "  array([  1.00000000e-05,   1.00000000e-05,   1.00000000e-05, ...,\n",
       "           1.00080257e-05,   1.00025606e-05,   1.00008748e-05]),\n",
       "  array([  1.00000000e-05,   1.00000000e-05,   1.00000000e-05, ...,\n",
       "           1.00096031e-05,   1.00025493e-05,   1.00009009e-05]),\n",
       "  array([  1.00000000e-05,   1.00000000e-05,   1.00000000e-05, ...,\n",
       "           1.00091320e-05,   1.00027613e-05,   1.00011760e-05]),\n",
       "  array([  1.00000000e-05,   1.00000000e-05,   1.00000000e-05, ...,\n",
       "           1.00086563e-05,   1.00037718e-05,   1.00009641e-05]),\n",
       "  array([  1.00000000e-05,   1.00000000e-05,   1.00000000e-05, ...,\n",
       "           1.00080796e-05,   1.00026198e-05,   1.00010029e-05]),\n",
       "  array([  1.00000000e-05,   1.00000000e-05,   1.00000000e-05, ...,\n",
       "           1.00081703e-05,   1.00026950e-05,   1.00010679e-05]),\n",
       "  array([  1.00000000e-05,   1.00000000e-05,   1.00000000e-05, ...,\n",
       "           1.00089056e-05,   1.00023925e-05,   1.00010857e-05]),\n",
       "  array([  1.00000000e-05,   1.00000000e-05,   1.00000000e-05, ...,\n",
       "           1.00057940e-05,   1.00025685e-05,   1.00012410e-05]),\n",
       "  array([  1.00000000e-05,   1.00000000e-05,   1.00000000e-05, ...,\n",
       "           1.00086832e-05,   1.00036625e-05,   1.00009508e-05]),\n",
       "  array([  1.00000000e-05,   1.00000000e-05,   1.00000000e-05, ...,\n",
       "           1.00061564e-05,   1.00029588e-05,   1.00010569e-05]),\n",
       "  array([  1.00000000e-05,   1.00000000e-05,   1.00000000e-05, ...,\n",
       "           1.00104203e-05,   1.00028792e-05,   1.00009406e-05]),\n",
       "  array([  1.00000000e-05,   1.00000000e-05,   8.76576387e-05, ...,\n",
       "           1.00087135e-05,   1.00026684e-05,   1.00011367e-05]),\n",
       "  array([  1.00000000e-05,   1.00000000e-05,   1.00000000e-05, ...,\n",
       "           1.00084759e-05,   1.00029425e-05,   1.00009777e-05]),\n",
       "  array([  1.00000000e-05,   1.00000000e-05,   1.00000000e-05, ...,\n",
       "           1.00059865e-05,   1.00024462e-05,   1.00009530e-05]),\n",
       "  array([  1.03370094e-04,   1.00000000e-05,   1.00000000e-05, ...,\n",
       "           1.00083895e-05,   1.00023599e-05,   1.00010167e-05]),\n",
       "  array([  1.00000000e-05,   1.00000000e-05,   1.00000000e-05, ...,\n",
       "           1.00081493e-05,   1.00028748e-05,   1.00010389e-05]),\n",
       "  array([  1.00000000e-05,   6.33189732e-05,   1.00000000e-05, ...,\n",
       "           1.00082042e-05,   1.00034010e-05,   1.00008116e-05]),\n",
       "  array([  1.00000000e-05,   1.00000000e-05,   1.00000000e-05, ...,\n",
       "           1.00069671e-05,   1.00024800e-05,   1.00009044e-05])],\n",
       " 'loglik': [-764069893.19388199,\n",
       "  2282866699.1732855,\n",
       "  2362585588.3564939,\n",
       "  2362875609.1670547,\n",
       "  2362875609.1670547],\n",
       " 'means': [array([  0.00000000e+00,   0.00000000e+00,   0.00000000e+00, ...,\n",
       "           1.97392895e-04,   1.16226309e-04,   8.31342337e-05]),\n",
       "  array([  0.00000000e+00,   0.00000000e+00,   0.00000000e+00, ...,\n",
       "           1.99028315e-04,   1.23615958e-04,   9.28240691e-05]),\n",
       "  array([  0.00000000e+00,   0.00000000e+00,   0.00000000e+00, ...,\n",
       "           2.13832508e-04,   1.23988291e-04,   8.88685389e-05]),\n",
       "  array([  0.00000000e+00,   0.00000000e+00,   0.00000000e+00, ...,\n",
       "           1.88480337e-04,   1.29568309e-04,   8.46248827e-05]),\n",
       "  array([  0.00000000e+00,   0.00000000e+00,   0.00000000e+00, ...,\n",
       "           2.07719908e-04,   1.23184444e-04,   8.58564369e-05]),\n",
       "  array([  0.00000000e+00,   0.00000000e+00,   0.00000000e+00, ...,\n",
       "           2.14685362e-04,   1.13886525e-04,   8.74676202e-05]),\n",
       "  array([  0.00000000e+00,   0.00000000e+00,   0.00000000e+00, ...,\n",
       "           2.20485484e-04,   1.21434079e-04,   8.51596216e-05]),\n",
       "  array([  0.00000000e+00,   0.00000000e+00,   0.00000000e+00, ...,\n",
       "           2.01909945e-04,   1.19960711e-04,   8.50120721e-05]),\n",
       "  array([  0.00000000e+00,   0.00000000e+00,   0.00000000e+00, ...,\n",
       "           2.14788904e-04,   1.10140276e-04,   9.23820556e-05]),\n",
       "  array([  0.00000000e+00,   0.00000000e+00,   0.00000000e+00, ...,\n",
       "           2.07595332e-04,   1.19042185e-04,   8.99303368e-05]),\n",
       "  array([  0.00000000e+00,   0.00000000e+00,   0.00000000e+00, ...,\n",
       "           1.99688804e-04,   1.29980491e-04,   8.95716210e-05]),\n",
       "  array([  0.00000000e+00,   0.00000000e+00,   0.00000000e+00, ...,\n",
       "           2.04892489e-04,   1.22572601e-04,   8.79241446e-05]),\n",
       "  array([  0.00000000e+00,   0.00000000e+00,   0.00000000e+00, ...,\n",
       "           2.07703185e-04,   1.25378674e-04,   8.64551877e-05]),\n",
       "  array([  0.00000000e+00,   0.00000000e+00,   0.00000000e+00, ...,\n",
       "           2.08533194e-04,   1.18431640e-04,   8.32664969e-05]),\n",
       "  array([  0.00000000e+00,   0.00000000e+00,   0.00000000e+00, ...,\n",
       "           1.94757973e-04,   1.16132205e-04,   8.74699448e-05]),\n",
       "  array([  0.00000000e+00,   0.00000000e+00,   0.00000000e+00, ...,\n",
       "           2.01732493e-04,   1.26804480e-04,   8.60727173e-05]),\n",
       "  array([  0.00000000e+00,   0.00000000e+00,   0.00000000e+00, ...,\n",
       "           1.82807047e-04,   1.31256053e-04,   8.50813555e-05]),\n",
       "  array([  0.00000000e+00,   0.00000000e+00,   0.00000000e+00, ...,\n",
       "           2.14111855e-04,   1.29965724e-04,   8.85104969e-05]),\n",
       "  array([  0.00000000e+00,   0.00000000e+00,   7.69939220e-04, ...,\n",
       "           2.03950420e-04,   1.22439129e-04,   8.75673508e-05]),\n",
       "  array([  0.00000000e+00,   0.00000000e+00,   0.00000000e+00, ...,\n",
       "           2.04918117e-04,   1.17290444e-04,   8.85941158e-05]),\n",
       "  array([  0.00000000e+00,   0.00000000e+00,   0.00000000e+00, ...,\n",
       "           1.88330157e-04,   1.22631545e-04,   8.68546958e-05]),\n",
       "  array([  6.42761240e-04,   0.00000000e+00,   0.00000000e+00, ...,\n",
       "           2.07634083e-04,   1.22123734e-04,   8.65131968e-05]),\n",
       "  array([  0.00000000e+00,   0.00000000e+00,   0.00000000e+00, ...,\n",
       "           2.06750569e-04,   1.12752307e-04,   8.89733769e-05]),\n",
       "  array([  0.00000000e+00,   5.55159578e-04,   0.00000000e+00, ...,\n",
       "           2.06923134e-04,   1.26863779e-04,   8.80370697e-05]),\n",
       "  array([  0.00000000e+00,   0.00000000e+00,   0.00000000e+00, ...,\n",
       "           2.03520600e-04,   1.14957747e-04,   8.41644763e-05])],\n",
       " 'resp': array([[ 0.,  0.,  0., ...,  0.,  0.,  0.],\n",
       "        [ 0.,  0.,  0., ...,  0.,  0.,  0.],\n",
       "        [ 0.,  0.,  0., ...,  0.,  0.,  0.],\n",
       "        ..., \n",
       "        [ 0.,  0.,  0., ...,  0.,  0.,  0.],\n",
       "        [ 1.,  0.,  0., ...,  0.,  0.,  0.],\n",
       "        [ 0.,  0.,  1., ...,  0.,  0.,  0.]]),\n",
       " 'weights': array([ 0.0198,  0.0772,  0.0322,  0.0212,  0.0492,  0.0374,  0.0444,\n",
       "         0.059 ,  0.0608,  0.0342,  0.0464,  0.0482,  0.0504,  0.023 ,\n",
       "         0.0336,  0.0432,  0.0284,  0.0294,  0.0264,  0.0368,  0.0332,\n",
       "         0.0454,  0.0324,  0.0348,  0.053 ])}"
      ]
     },
     "execution_count": 16,
     "metadata": {},
     "output_type": "execute_result"
    }
   ],
   "source": [
    "EM_for_high_dimension(tf_idf, random_means, random_covs, random_weights, cov_smoothing=1e-5)"
   ]
  },
  {
   "cell_type": "markdown",
   "metadata": {},
   "source": [
    "**Quiz question:** Is the final loglikelihood larger or smaller than the final loglikelihood we obtained above when initializing EM with the results from running k-means?"
   ]
  },
  {
   "cell_type": "code",
   "execution_count": null,
   "metadata": {
    "collapsed": true
   },
   "outputs": [],
   "source": []
  },
  {
   "cell_type": "markdown",
   "metadata": {},
   "source": [
    "**Quiz question**: For the above model, `out_random_init`, use the `visualize_EM_clusters` method you created above. Are the clusters more or less interpretable than the ones found after initializing using k-means?"
   ]
  },
  {
   "cell_type": "code",
   "execution_count": 17,
   "metadata": {
    "collapsed": false
   },
   "outputs": [
    {
     "name": "stdout",
     "output_type": "stream",
     "text": [
      "\n",
      "==========================================================\n",
      "Cluster 0: Largest mean parameters in cluster \n",
      "\n",
      "Word        Mean        Variance    \n",
      "nsa         4.16e+00    4.58e+00\n",
      "artsalthough4.08e+00    1.97e+00\n",
      "uruguayan   4.08e+00    4.06e+00\n",
      "mathews     4.03e+00    1.49e+00\n",
      "toacazo     4.01e+00    3.40e+00\n",
      "\n",
      "==========================================================\n",
      "Cluster 1: Largest mean parameters in cluster \n",
      "\n",
      "Word        Mean        Variance    \n",
      "buckminster 4.10e+00    2.19e+00\n",
      "nonlinguistic4.09e+00    2.28e+00\n",
      "romanini    4.01e+00    1.07e+00\n",
      "romanov     4.00e+00    3.64e+00\n",
      "sperone     3.95e+00    2.64e+00\n",
      "\n",
      "==========================================================\n",
      "Cluster 2: Largest mean parameters in cluster \n",
      "\n",
      "Word        Mean        Variance    \n",
      "kaduna      4.15e+00    4.36e+00\n",
      "mermaid     4.05e+00    3.55e+00\n",
      "juifs       3.95e+00    2.46e+00\n",
      "introverted 3.93e+00    4.48e+00\n",
      "panel       3.92e+00    1.37e+00\n",
      "\n",
      "==========================================================\n",
      "Cluster 3: Largest mean parameters in cluster \n",
      "\n",
      "Word        Mean        Variance    \n",
      "serpico     4.18e+00    1.97e+00\n",
      "tryline     3.99e+00    1.23e+00\n",
      "thuringian  3.98e+00    4.22e+00\n",
      "remounted   3.96e+00    4.22e+00\n",
      "mikkelsen   3.88e+00    4.93e+00\n",
      "\n",
      "==========================================================\n",
      "Cluster 4: Largest mean parameters in cluster \n",
      "\n",
      "Word        Mean        Variance    \n",
      "andersonhe  4.15e+00    2.97e+00\n",
      "omnium      4.10e+00    2.24e+00\n",
      "mckellar    4.03e+00    4.49e+00\n",
      "seasonskaugstad3.93e+00    4.09e+00\n",
      "courtscorsones3.86e+00    2.68e+00\n",
      "\n",
      "==========================================================\n",
      "Cluster 5: Largest mean parameters in cluster \n",
      "\n",
      "Word        Mean        Variance    \n",
      "swissmem    4.55e+00    4.30e+00\n",
      "kostiw      4.06e+00    4.26e+00\n",
      "minnie      4.04e+00    3.50e+00\n",
      "humanetisk  4.02e+00    2.19e+00\n",
      "virgil      4.02e+00    4.74e+00\n",
      "\n",
      "==========================================================\n",
      "Cluster 6: Largest mean parameters in cluster \n",
      "\n",
      "Word        Mean        Variance    \n",
      "beijinglondon4.96e+00    4.60e+00\n",
      "italybased  4.77e+00    4.83e+00\n",
      "1982macfarlane4.17e+00    4.84e+00\n",
      "culdesac    4.07e+00    1.93e+00\n",
      "sugarcraft  4.01e+00    3.34e+00\n",
      "\n",
      "==========================================================\n",
      "Cluster 7: Largest mean parameters in cluster \n",
      "\n",
      "Word        Mean        Variance    \n",
      "2she        4.18e+00    4.13e+00\n",
      "souladi     4.01e+00    3.46e+00\n",
      "companypreviously3.87e+00    3.09e+00\n",
      "donegal     3.80e+00    3.94e+00\n",
      "heatstwo    3.75e+00    1.96e+00\n",
      "\n",
      "==========================================================\n",
      "Cluster 8: Largest mean parameters in cluster \n",
      "\n",
      "Word        Mean        Variance    \n",
      "shon        4.42e+00    3.56e+00\n",
      "barrelman   4.34e+00    1.62e+00\n",
      "dibango     4.19e+00    1.95e+00\n",
      "catalane    4.16e+00    3.98e+00\n",
      "denison     4.13e+00    2.06e+00\n",
      "\n",
      "==========================================================\n",
      "Cluster 9: Largest mean parameters in cluster \n",
      "\n",
      "Word        Mean        Variance    \n",
      "alineas     4.50e+00    1.98e+00\n",
      "selfaffirmation4.03e+00    1.86e+00\n",
      "cataloguers 3.93e+00    2.19e+00\n",
      "geologyborn 3.92e+00    4.72e+00\n",
      "bai         3.89e+00    3.75e+00\n",
      "\n",
      "==========================================================\n",
      "Cluster 10: Largest mean parameters in cluster \n",
      "\n",
      "Word        Mean        Variance    \n",
      "awake       4.26e+00    1.75e+00\n",
      "croatian    4.17e+00    2.74e+00\n",
      "secretlyrecorded3.92e+00    1.95e+00\n",
      "filled      3.92e+00    4.00e+00\n",
      "pasborg     3.88e+00    1.30e+00\n",
      "\n",
      "==========================================================\n",
      "Cluster 11: Largest mean parameters in cluster \n",
      "\n",
      "Word        Mean        Variance    \n",
      "postwe      4.43e+00    1.34e+00\n",
      "dorfen      4.22e+00    4.22e+00\n",
      "mackenzie   4.20e+00    3.42e+00\n",
      "foti        4.08e+00    3.15e+00\n",
      "slab        4.06e+00    3.39e+00\n",
      "\n",
      "==========================================================\n",
      "Cluster 12: Largest mean parameters in cluster \n",
      "\n",
      "Word        Mean        Variance    \n",
      "equavalent  4.26e+00    2.96e+00\n",
      "66897       4.21e+00    3.86e+00\n",
      "celebs      4.08e+00    4.35e+00\n",
      "prisonbefore3.98e+00    3.97e+00\n",
      "mahanagara  3.96e+00    4.13e+00\n",
      "\n",
      "==========================================================\n",
      "Cluster 13: Largest mean parameters in cluster \n",
      "\n",
      "Word        Mean        Variance    \n",
      "fixing      4.24e+00    3.30e+00\n",
      "runearlier  4.17e+00    1.98e+00\n",
      "millin      4.09e+00    4.85e+00\n",
      "decree      3.84e+00    1.89e+00\n",
      "wehadana    3.84e+00    2.75e+00\n",
      "\n",
      "==========================================================\n",
      "Cluster 14: Largest mean parameters in cluster \n",
      "\n",
      "Word        Mean        Variance    \n",
      "superfluous 4.15e+00    2.50e+00\n",
      "shortrange  4.02e+00    4.74e+00\n",
      "geoinformation3.98e+00    1.28e+00\n",
      "lancelot    3.95e+00    4.39e+00\n",
      "nurtured    3.66e+00    2.84e+00\n",
      "\n",
      "==========================================================\n",
      "Cluster 15: Largest mean parameters in cluster \n",
      "\n",
      "Word        Mean        Variance    \n",
      "curry       4.32e+00    2.07e+00\n",
      "5a          4.29e+00    3.11e+00\n",
      "turk        4.19e+00    3.43e+00\n",
      "carlitos    4.03e+00    2.89e+00\n",
      "magazinesms 3.88e+00    1.16e+00\n",
      "\n",
      "==========================================================\n",
      "Cluster 16: Largest mean parameters in cluster \n",
      "\n",
      "Word        Mean        Variance    \n",
      "jalal       4.25e+00    1.33e+00\n",
      "rotovision  4.23e+00    3.84e+00\n",
      "inherent    4.19e+00    2.99e+00\n",
      "buildingshe 4.13e+00    2.12e+00\n",
      "2012all     4.12e+00    2.62e+00\n",
      "\n",
      "==========================================================\n",
      "Cluster 17: Largest mean parameters in cluster \n",
      "\n",
      "Word        Mean        Variance    \n",
      "stimulation 4.24e+00    1.51e+00\n",
      "draine      4.04e+00    2.52e+00\n",
      "encryption  3.99e+00    3.20e+00\n",
      "bouncerin   3.95e+00    3.32e+00\n",
      "flyntin     3.93e+00    3.99e+00\n",
      "\n",
      "==========================================================\n",
      "Cluster 18: Largest mean parameters in cluster \n",
      "\n",
      "Word        Mean        Variance    \n",
      "rubbed      4.08e+00    3.44e+00\n",
      "mcgee       3.96e+00    2.94e+00\n",
      "strain      3.95e+00    3.22e+00\n",
      "teamsa      3.88e+00    3.61e+00\n",
      "conceive    3.86e+00    2.70e+00\n",
      "\n",
      "==========================================================\n",
      "Cluster 19: Largest mean parameters in cluster \n",
      "\n",
      "Word        Mean        Variance    \n",
      "tsurai      4.42e+00    3.13e+00\n",
      "reformation 4.15e+00    3.63e+00\n",
      "verlinvest  3.91e+00    3.94e+00\n",
      "hitlers     3.90e+00    4.43e+00\n",
      "accomodata  3.86e+00    1.38e+00\n",
      "\n",
      "==========================================================\n",
      "Cluster 20: Largest mean parameters in cluster \n",
      "\n",
      "Word        Mean        Variance    \n",
      "carsbishop  4.30e+00    1.64e+00\n",
      "flavio      4.17e+00    1.19e+00\n",
      "pennie      4.08e+00    1.93e+00\n",
      "timelife    4.02e+00    1.44e+00\n",
      "excentral   3.91e+00    1.90e+00\n",
      "\n",
      "==========================================================\n",
      "Cluster 21: Largest mean parameters in cluster \n",
      "\n",
      "Word        Mean        Variance    \n",
      "rcms        4.54e+00    2.15e+00\n",
      "ktkz        4.21e+00    4.15e+00\n",
      "constantinople4.05e+00    2.43e+00\n",
      "lgh         3.95e+00    3.56e+00\n",
      "complexion  3.94e+00    4.95e+00\n",
      "\n",
      "==========================================================\n",
      "Cluster 22: Largest mean parameters in cluster \n",
      "\n",
      "Word        Mean        Variance    \n",
      "tie         4.33e+00    2.99e+00\n",
      "skalstad    4.06e+00    4.09e+00\n",
      "accredited  3.86e+00    1.46e+00\n",
      "dor         3.86e+00    4.65e+00\n",
      "nh          3.85e+00    1.12e+00\n",
      "\n",
      "==========================================================\n",
      "Cluster 23: Largest mean parameters in cluster \n",
      "\n",
      "Word        Mean        Variance    \n",
      "tsukahara   4.65e+00    1.28e+00\n",
      "bodyline    4.21e+00    4.81e+00\n",
      "patrik      4.05e+00    3.38e+00\n",
      "bonded      3.96e+00    1.01e+00\n",
      "generations 3.94e+00    2.69e+00\n",
      "\n",
      "==========================================================\n",
      "Cluster 24: Largest mean parameters in cluster \n",
      "\n",
      "Word        Mean        Variance    \n",
      "postmillar  4.07e+00    1.76e+00\n",
      "agrade      3.96e+00    2.30e+00\n",
      "ceremonieskopay3.96e+00    2.35e+00\n",
      "europethe   3.89e+00    3.46e+00\n",
      "inputsan    3.81e+00    1.62e+00\n",
      "\n",
      "==========================================================\n"
     ]
    }
   ],
   "source": [
    "# YOUR CODE HERE. Use visualize_EM_clusters, which will require you to pass in tf_idf and map_index_to_word.\n",
    "visualize_EM_clusters(tf_idf, random_means, random_covs, map_index_to_word)"
   ]
  },
  {
   "cell_type": "markdown",
   "metadata": {
    "collapsed": true
   },
   "source": [
    "## Takeaway\n",
    "\n",
    "In this assignment we were able to apply the EM algorithm to a mixture of Gaussians model of text data. This was made possible by modifying the model to assume a diagonal covariance for each cluster, and by modifying the implementation to use a sparse matrix representation. In the second part you explored the role of k-means initialization on the convergence of the model as well as the interpretability of the clusters."
   ]
  },
  {
   "cell_type": "code",
   "execution_count": null,
   "metadata": {
    "collapsed": true
   },
   "outputs": [],
   "source": []
  }
 ],
 "metadata": {
  "kernelspec": {
   "display_name": "Python 2",
   "language": "python",
   "name": "python2"
  },
  "language_info": {
   "codemirror_mode": {
    "name": "ipython",
    "version": 2
   },
   "file_extension": ".py",
   "mimetype": "text/x-python",
   "name": "python",
   "nbconvert_exporter": "python",
   "pygments_lexer": "ipython2",
   "version": "2.7.11"
  }
 },
 "nbformat": 4,
 "nbformat_minor": 0
}
